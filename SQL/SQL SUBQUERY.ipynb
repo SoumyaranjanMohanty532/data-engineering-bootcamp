{
 "cells": [
  {
   "cell_type": "code",
   "execution_count": 0,
   "metadata": {
    "application/vnd.databricks.v1+cell": {
     "cellMetadata": {
      "byteLimit": 2048000,
      "rowLimit": 10000
     },
     "inputWidgets": {},
     "nuid": "a9b63e96-6b5a-485b-bc97-fa9eea564292",
     "showTitle": false,
     "tableResultSettingsMap": {},
     "title": ""
    }
   },
   "outputs": [],
   "source": [
    "--CREATING EmployeesSubQuery table\n",
    "CREATE TABLE EmployeesSubQuery (\n",
    "  EmployeeID int,\n",
    "  FirstName VARCHAR(50),\n",
    "  LastName VARCHAR(50),\n",
    "  JobID VARCHAR(50),\n",
    "  Salary int,\n",
    "  ManagerID int,\n",
    "  Department VARCHAR(50)\n",
    ")  ;\n",
    "\n",
    "insert into EmployeesSubQuery values\n",
    "(100, 'Steven', 'King', 'AD_PRES', 24000.00, NULL, 90),\n",
    "(101, 'Neena', 'Kochhar', 'AD_VP', 17000.00, 100, 90),\n",
    "(102, 'Lex', 'De Haan', 'AD_VP', 17000.00, 100, 90),\n",
    "(103, 'Alexander', 'Hunold', 'IT_PROG', 9000.00, 102, 60),\n",
    "(104, 'Bruce', 'Ernst', 'IT_PROG', 6000.00, 103, 60),\n",
    "(105, 'David', 'Austin', 'IT_PROG', 4800.00, 103, 60),\n",
    "(106, 'Valli', 'Pataballa', 'IT_PROG', 4800.00, 103, 60),\n",
    "(107, 'Diana', 'Lorentz', 'IT_PROG', 4200.00, 103, 60);\n"
   ]
  },
  {
   "cell_type": "code",
   "execution_count": 0,
   "metadata": {
    "application/vnd.databricks.v1+cell": {
     "cellMetadata": {
      "byteLimit": 2048000,
      "rowLimit": 10000
     },
     "inputWidgets": {},
     "nuid": "52ca7016-6a98-4824-90d9-75286c459701",
     "showTitle": false,
     "tableResultSettingsMap": {},
     "title": ""
    }
   },
   "outputs": [],
   "source": [
    "SELECT * FROM EmployeesSubQuery ;\n"
   ]
  },
  {
   "cell_type": "code",
   "execution_count": 0,
   "metadata": {
    "application/vnd.databricks.v1+cell": {
     "cellMetadata": {
      "byteLimit": 2048000,
      "rowLimit": 10000
     },
     "inputWidgets": {},
     "nuid": "9744660a-9cf9-4d73-a599-714546d65faa",
     "showTitle": false,
     "tableResultSettingsMap": {},
     "title": ""
    }
   },
   "outputs": [],
   "source": [
    "--1.\tFind employees who earn more than the average salary of all employees.\n",
    "select \n",
    "  EmployeeID, \n",
    "  FirstName, \n",
    "  LastName, \n",
    "  Salary\n",
    "from EmployeesSubQuery\n",
    "where Salary > (select avg(Salary) from EmployeesSubQuery);\n"
   ]
  },
  {
   "cell_type": "code",
   "execution_count": 0,
   "metadata": {
    "application/vnd.databricks.v1+cell": {
     "cellMetadata": {
      "byteLimit": 2048000,
      "rowLimit": 10000
     },
     "inputWidgets": {},
     "nuid": "ff734b7f-44d6-4d32-a1ee-8ae2873b40b5",
     "showTitle": false,
     "tableResultSettingsMap": {},
     "title": ""
    }
   },
   "outputs": [],
   "source": [
    "--2.\tList departments that have at least one employee.\n",
    "select \n",
    "  COUNT(EmployeeID) as NumberOfEmployees, \n",
    "  Department \n",
    "from EmployeesSubQuery \n",
    "group by Department \n",
    "having NumberOfEmployees > 0;\n",
    "\n",
    "\n"
   ]
  },
  {
   "cell_type": "code",
   "execution_count": 0,
   "metadata": {
    "application/vnd.databricks.v1+cell": {
     "cellMetadata": {
      "byteLimit": 2048000,
      "rowLimit": 10000
     },
     "inputWidgets": {},
     "nuid": "2f6b3738-86d7-4cc2-ac42-77a63e3548db",
     "showTitle": false,
     "tableResultSettingsMap": {},
     "title": ""
    }
   },
   "outputs": [],
   "source": [
    "--3.\tFind the employee(s) with the highest salary.\n",
    "SELECT \n",
    "  EmployeeID,\n",
    "  FirstName,\n",
    "  LastName,\n",
    "  Salary\n",
    "FROM EmployeesSubQuery\n",
    "WHERE Salary=(SELECT MAX(Salary) FROM EmployeesSubQuery);"
   ]
  },
  {
   "cell_type": "code",
   "execution_count": 0,
   "metadata": {
    "application/vnd.databricks.v1+cell": {
     "cellMetadata": {
      "byteLimit": 2048000,
      "rowLimit": 10000
     },
     "inputWidgets": {},
     "nuid": "55e6cd2b-aa3f-4af3-a024-4d9135a37a5c",
     "showTitle": false,
     "tableResultSettingsMap": {},
     "title": ""
    }
   },
   "outputs": [],
   "source": [
    "--4.\tReturn the names of employees working in departments located in Bangalore.\n",
    "select\n",
    "   FirstName as EmployeeName \n",
    "from EmployeesSubQuery \n",
    "where Department = 'Bangalore';"
   ]
  },
  {
   "cell_type": "code",
   "execution_count": 0,
   "metadata": {
    "application/vnd.databricks.v1+cell": {
     "cellMetadata": {},
     "inputWidgets": {},
     "nuid": "125f5367-0f32-45f9-8fb1-76742e9e8b33",
     "showTitle": false,
     "tableResultSettingsMap": {},
     "title": ""
    }
   },
   "outputs": [],
   "source": []
  }
 ],
 "metadata": {
  "application/vnd.databricks.v1+notebook": {
   "computePreferences": null,
   "dashboards": [],
   "environmentMetadata": {
    "base_environment": "",
    "environment_version": "3"
   },
   "inputWidgetPreferences": null,
   "language": "sql",
   "notebookMetadata": {
    "pythonIndentUnit": 4
   },
   "notebookName": "SQL SUBQUERY",
   "widgets": {}
  },
  "language_info": {
   "name": "sql"
  }
 },
 "nbformat": 4,
 "nbformat_minor": 0
}

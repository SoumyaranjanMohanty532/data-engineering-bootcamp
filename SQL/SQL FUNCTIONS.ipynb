{
 "cells": [
  {
   "cell_type": "code",
   "execution_count": 0,
   "metadata": {
    "application/vnd.databricks.v1+cell": {
     "cellMetadata": {
      "byteLimit": 2048000,
      "rowLimit": 10000
     },
     "inputWidgets": {},
     "nuid": "7b43d07c-8389-4550-95d3-4152acf02cfc",
     "showTitle": false,
     "tableResultSettingsMap": {},
     "title": ""
    }
   },
   "outputs": [],
   "source": [
    "--CREATING Employee_Sales Table\n",
    "\n",
    "CREATE TABLE Employee_Sales(\n",
    "  EmployeeID INT PRIMARY KEY,\n",
    "  Name STRING,\n",
    "  Department STRING,\n",
    "  JoinDate DATE,\n",
    "  SalsAmount INT,\n",
    "  Region STRING\n",
    ");\n",
    "\n",
    "--inserting data into  Employee_Sales Table\n",
    "\n",
    "INSERT INTO Employee_Sales\n",
    "VALUES\n",
    "(101,'Priya', 'Retail', '2022-01-25', 50000, 'East'),\n",
    "(102,'Arjun', 'Retail', '2021-03-10', 70000, 'West'),\n",
    "(103,'Neha', 'Corporate', '2023-07-21', 65000, 'East'),\n",
    "(104,'Rohan', 'Retail', '2020-11-20', 80000, 'North'),\n",
    "(105,'Sneha', 'Corporate', '2022-05-25', 60000, 'West'),\n",
    "(106,'Karan', 'Retail', '2023-01-05', 55000, 'East');"
   ]
  },
  {
   "cell_type": "code",
   "execution_count": 0,
   "metadata": {
    "application/vnd.databricks.v1+cell": {
     "cellMetadata": {
      "byteLimit": 2048000,
      "rowLimit": 10000
     },
     "inputWidgets": {},
     "nuid": "dca93463-4904-4c32-84b1-62fc187a2365",
     "showTitle": false,
     "tableResultSettingsMap": {},
     "title": ""
    }
   },
   "outputs": [],
   "source": [
    "--1.\tWrite a query to convert all employee names to uppercase using a scalar function.\n",
    "select upper(Name) as Name from Employee_Sales;"
   ]
  },
  {
   "cell_type": "code",
   "execution_count": 0,
   "metadata": {
    "application/vnd.databricks.v1+cell": {
     "cellMetadata": {
      "byteLimit": 2048000,
      "rowLimit": 10000
     },
     "inputWidgets": {},
     "nuid": "f1a8d68c-8397-4b6c-a499-763f043a528e",
     "showTitle": false,
     "tableResultSettingsMap": {},
     "title": ""
    }
   },
   "outputs": [],
   "source": [
    "--2.\tWrite a query to extract the year from each employee’s JoinDate.\n",
    "select YEAR(JoinDate) as JoinYear from Employee_Sales;\n"
   ]
  },
  {
   "cell_type": "code",
   "execution_count": 0,
   "metadata": {
    "application/vnd.databricks.v1+cell": {
     "cellMetadata": {
      "byteLimit": 2048000,
      "rowLimit": 10000
     },
     "inputWidgets": {},
     "nuid": "93cab2a9-4a12-47dc-9cd8-4acf2ea54f9d",
     "showTitle": false,
     "tableResultSettingsMap": {},
     "title": ""
    }
   },
   "outputs": [],
   "source": [
    "--3.\tWrite a query to round the SalesAmount to the nearest thousand.\n",
    "SELECT ROUND(SalsAmount/1000)*1000 as rounded_SalesAmount FROM Employee_Sales;"
   ]
  },
  {
   "cell_type": "code",
   "execution_count": 0,
   "metadata": {
    "application/vnd.databricks.v1+cell": {
     "cellMetadata": {
      "byteLimit": 2048000,
      "rowLimit": 10000
     },
     "inputWidgets": {},
     "nuid": "d3c3683e-682a-4934-973b-b7867f55cab0",
     "showTitle": false,
     "tableResultSettingsMap": {},
     "title": ""
    }
   },
   "outputs": [],
   "source": [
    "--4.\tWrite a query to find the length of each employee’s name.\n",
    "SELECT LEN(Name) as Name_Length ,Name FROM Employee_Sales;"
   ]
  },
  {
   "cell_type": "code",
   "execution_count": 0,
   "metadata": {
    "application/vnd.databricks.v1+cell": {
     "cellMetadata": {
      "byteLimit": 2048000,
      "rowLimit": 10000
     },
     "inputWidgets": {},
     "nuid": "c47286d2-72f0-4c57-8782-04f93a2b46f1",
     "showTitle": false,
     "tableResultSettingsMap": {},
     "title": ""
    }
   },
   "outputs": [],
   "source": [
    "--5.\tWrite a query to replace 'Retail' with 'Consumer' in the Department column.\n",
    "select replace(Department,'Retail','Consumer') as Department from Employee_Sales;"
   ]
  },
  {
   "cell_type": "code",
   "execution_count": 0,
   "metadata": {
    "application/vnd.databricks.v1+cell": {
     "cellMetadata": {
      "byteLimit": 2048000,
      "rowLimit": 10000
     },
     "inputWidgets": {},
     "nuid": "00772afc-ee11-4fd2-91c8-ff4afc1dbb61",
     "showTitle": false,
     "tableResultSettingsMap": {},
     "title": ""
    }
   },
   "outputs": [],
   "source": [
    "--6.\tWrite a query to calculate the number of days each employee has been in the company using DATEDIFF().\n",
    "SELECT DATEDIFF(day,JoinDate,CURRENT_DATE()) as Days_in_company,Name FROM Employee_Sales;"
   ]
  },
  {
   "cell_type": "code",
   "execution_count": 0,
   "metadata": {
    "application/vnd.databricks.v1+cell": {
     "cellMetadata": {
      "byteLimit": 2048000,
      "rowLimit": 10000
     },
     "inputWidgets": {},
     "nuid": "46209a9c-072f-410d-a932-4eabddb47ffa",
     "showTitle": false,
     "tableResultSettingsMap": {},
     "title": ""
    }
   },
   "outputs": [],
   "source": [
    "--7.\tWrite a query to assign a row number to each employee ordered by SalesAmount in descending order.\n",
    "select\n",
    "  row_number() over(order by SalsAmount desc) unique_row_number,\n",
    "  Name,\n",
    "  SalsAmount\n",
    "from Employee_Sales\n"
   ]
  },
  {
   "cell_type": "code",
   "execution_count": 0,
   "metadata": {
    "application/vnd.databricks.v1+cell": {
     "cellMetadata": {
      "byteLimit": 2048000,
      "rowLimit": 10000
     },
     "inputWidgets": {},
     "nuid": "2cf2969c-7450-49bb-a45a-b9e3e4768e7a",
     "showTitle": false,
     "tableResultSettingsMap": {},
     "title": ""
    }
   },
   "outputs": [],
   "source": [
    "--8.\tWrite a query to rank employees within each Region based on SalesAmount.\n",
    "select \n",
    "  Name,\n",
    "  Region,\n",
    "  SalsAmount,\n",
    "  rank() over(partition by Region order by SalsAmount desc) as rank\n",
    "from Employee_Sales;"
   ]
  },
  {
   "cell_type": "code",
   "execution_count": 0,
   "metadata": {
    "application/vnd.databricks.v1+cell": {
     "cellMetadata": {
      "byteLimit": 2048000,
      "rowLimit": 10000
     },
     "inputWidgets": {},
     "nuid": "89a7d602-d880-441f-bd56-5190d4d10937",
     "showTitle": false,
     "tableResultSettingsMap": {},
     "title": ""
    }
   },
   "outputs": [],
   "source": [
    "--9.\tWrite a query to return the previous and next SalesAmount for each employee using LAG() and LEAD().\n",
    "select \n",
    "  Name,\n",
    "  SalsAmount,\n",
    "  lag(SalsAmount) over(order by SalsAmount) as previous_SalsAmount,\n",
    "  lead(SalsAmount) over(order by SalsAmount) as next_SalsAmount\n",
    "from Employee_Sales;"
   ]
  },
  {
   "cell_type": "code",
   "execution_count": 0,
   "metadata": {
    "application/vnd.databricks.v1+cell": {
     "cellMetadata": {
      "byteLimit": 2048000,
      "rowLimit": 10000
     },
     "inputWidgets": {},
     "nuid": "10603230-21d0-4a2c-b3d0-650be6459733",
     "showTitle": false,
     "tableResultSettingsMap": {},
     "title": ""
    }
   },
   "outputs": [],
   "source": [
    "--10.\tWrite a query to calculate the running total of SalesAmount by Department.\n",
    "select\n",
    "  Department,\n",
    "  SalsAmount,\n",
    "  sum(SalsAmount) over (partition by Department order by SalsAmount) as running_total\n",
    "from Employee_Sales;"
   ]
  },
  {
   "cell_type": "code",
   "execution_count": 0,
   "metadata": {
    "application/vnd.databricks.v1+cell": {
     "cellMetadata": {
      "byteLimit": 2048000,
      "rowLimit": 10000
     },
     "inputWidgets": {},
     "nuid": "e5b4e00f-47e2-4b3c-bc6c-8786387da90f",
     "showTitle": false,
     "tableResultSettingsMap": {},
     "title": ""
    }
   },
   "outputs": [],
   "source": [
    "--11.\tWrite a query to return the first SalesAmount in each Region using FIRST_VALUE().\n",
    "select\n",
    "   Region,\n",
    "  FIRST_VALUE(SalsAmount) over(partition by Region order by SalsAmount) as first_SalsAmount\n",
    "from Employee_Sales;"
   ]
  },
  {
   "cell_type": "code",
   "execution_count": 0,
   "metadata": {
    "application/vnd.databricks.v1+cell": {
     "cellMetadata": {
      "byteLimit": 2048000,
      "rowLimit": 10000
     },
     "inputWidgets": {},
     "nuid": "5f68a326-3b62-4f9b-af51-7c7c71e4c900",
     "showTitle": false,
     "tableResultSettingsMap": {},
     "title": ""
    }
   },
   "outputs": [],
   "source": [
    "--12.\tWrite a query to return the last SalesAmount in each Region using LAST_VALUE().\n",
    "SELECT \n",
    "  Region,\n",
    "  LAST_VALUE(SalsAmount) OVER (\n",
    "    PARTITION BY Region \n",
    "    ORDER BY SalsAmount \n",
    "    ROWS BETWEEN UNBOUNDED PRECEDING AND UNBOUNDED FOLLOWING\n",
    "  ) AS last_SalsAmount\n",
    "FROM Employee_Sales;"
   ]
  },
  {
   "cell_type": "code",
   "execution_count": 0,
   "metadata": {
    "application/vnd.databricks.v1+cell": {
     "cellMetadata": {
      "byteLimit": 2048000,
      "rowLimit": 10000
     },
     "inputWidgets": {},
     "nuid": "150fb838-e1a2-43b3-95d0-e99e36dc4176",
     "showTitle": false,
     "tableResultSettingsMap": {},
     "title": ""
    }
   },
   "outputs": [],
   "source": [
    "--13.\tWrite a query to divide employees into 3 groups based on SalesAmount using NTILE(3).\n",
    "SELECT SalsAmount,NTILE(3) OVER (ORDER BY SalsAmount) AS SalesAmount\n",
    "from Employee_Sales;"
   ]
  },
  {
   "cell_type": "code",
   "execution_count": 0,
   "metadata": {
    "application/vnd.databricks.v1+cell": {
     "cellMetadata": {
      "byteLimit": 2048000,
      "rowLimit": 10000
     },
     "inputWidgets": {},
     "nuid": "14529ecf-ae28-4004-a697-c95dae1198b1",
     "showTitle": false,
     "tableResultSettingsMap": {},
     "title": ""
    }
   },
   "outputs": [],
   "source": [
    "--14.\tWrite a query to extract the first three characters of each employee’s name.\n",
    "select  \n",
    "  left(Name ,3) EmployeeFirstthreecharacter\n",
    "from employee_sales;"
   ]
  },
  {
   "cell_type": "code",
   "execution_count": 0,
   "metadata": {
    "application/vnd.databricks.v1+cell": {
     "cellMetadata": {
      "byteLimit": 2048000,
      "rowLimit": 10000
     },
     "inputWidgets": {},
     "nuid": "ff05d75d-463c-4b10-aeeb-4a2554a9812e",
     "showTitle": false,
     "tableResultSettingsMap": {},
     "title": ""
    }
   },
   "outputs": [],
   "source": [
    "--15.\tWrite a query to display the current system date and time for each row.\n",
    "select \n",
    "  getdate() as current_date_time\n",
    " \n",
    "from Employee_Sales;"
   ]
  }
 ],
 "metadata": {
  "application/vnd.databricks.v1+notebook": {
   "computePreferences": null,
   "dashboards": [],
   "environmentMetadata": {
    "base_environment": "",
    "environment_version": "3"
   },
   "inputWidgetPreferences": null,
   "language": "sql",
   "notebookMetadata": {
    "pythonIndentUnit": 4
   },
   "notebookName": "SQL FUNCTIONS",
   "widgets": {}
  },
  "language_info": {
   "name": "sql"
  }
 },
 "nbformat": 4,
 "nbformat_minor": 0
}
